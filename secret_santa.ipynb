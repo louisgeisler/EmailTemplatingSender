{
 "cells": [
  {
   "cell_type": "markdown",
   "metadata": {},
   "source": [
    "<h1 style=\"text-align:center; font-size: 3em;\">Secret Santa Emailing</h1>\n",
    "<h1 style=\"text-align:center; font-size: 3em;\">🎅📨</h1>"
   ]
  },
  {
   "cell_type": "markdown",
   "metadata": {},
   "source": [
    "<b>🕵️ Privacy First:</b> Your data stays with you. The entire process runs locally on your machine - no email storage worries !\n",
    "<br><b>🔒 Secure & Reliable::</b> Uses your existing (professionnal) email account. Fully compatible with popular services like Gmail and Outlook.\n",
    "<br><b>📨 User-Friendly:</b><ol>\n",
    "    <li>Upload a CSV with names and addresses.</li>\n",
    "    <li>Customize your email template.</li>\n",
    "    <li>Preview and send each email individually with ease.</li>\n",
    "</ol>\n",
    "<b>🤝 Trustable & Free:</b> Fully Open Source code, but you can <a href=\"https://www.buymeacoffee.com/louisgeisler\">Buy Me a Coffee</a>\n",
    "<br><b>⚙️ Advanced Customization:</b> Thanks to <a href=\"https://jinja.palletsprojects.com/en/3.0.x/templates/#if\">Jinja templating</a>, you can add conditional logic to your templates for a personalized touch! !\n",
    "<br>\n",
    "\n",
    "Website: [https://louisgeisler.github.io/EmailTemplatingSender/](https://louisgeisler.github.io/EmailTemplatingSender/)  \n",
    "GitHub Repo: [https://github.com/louisgeisler/EmailTemplatingSender](https://github.com/louisgeisler/EmailTemplatingSender)"
   ]
  },
  {
   "cell_type": "markdown",
   "metadata": {},
   "source": [
    "# Install Packages"
   ]
  },
  {
   "cell_type": "code",
   "execution_count": null,
   "metadata": {},
   "outputs": [],
   "source": [
    "!pip install pandas\n",
    "!pip install Jinja2"
   ]
  },
  {
   "cell_type": "markdown",
   "metadata": {},
   "source": [
    "# Importations"
   ]
  },
  {
   "cell_type": "code",
   "execution_count": null,
   "metadata": {},
   "outputs": [],
   "source": [
    "import io\n",
    "import pandas as pd\n",
    "from jinja2 import Template\n",
    "from urllib.parse import quote\n",
    "from IPython.core.display import HTML\n",
    "from IPython.display import Javascript"
   ]
  },
  {
   "cell_type": "markdown",
   "metadata": {},
   "source": [
    "# Define list of people and their informations"
   ]
  },
  {
   "cell_type": "code",
   "execution_count": null,
   "metadata": {},
   "outputs": [],
   "source": [
    "# You may replace this by a valide csv path\n",
    "csv_path = io.StringIO('''\n",
    "Name,Email\n",
    "Louis,louis@example.com\n",
    "Ekaterina,ekaterina@example.com\n",
    "Boris,boris@example.com\n",
    "Elettra,elettra@example.com\n",
    "Ayoub,boris@example.com\n",
    "Lina,lina@example.com\n",
    "''')\n",
    "\n",
    "df = pd.read_csv(csv_path)\n",
    "\n",
    "df"
   ]
  },
  {
   "cell_type": "markdown",
   "metadata": {},
   "source": [
    "# Shuffle Emails"
   ]
  },
  {
   "cell_type": "code",
   "execution_count": null,
   "metadata": {},
   "outputs": [],
   "source": [
    "for i in range(3):\n",
    "    df = df.sample(frac=1, replace=False)\n",
    "\n",
    "#df # Keep it secret, even from yourself... or not ;-)"
   ]
  },
  {
   "cell_type": "markdown",
   "metadata": {},
   "source": [
    "# Save the sending order !\n",
    "\n",
    "VERY IMPORTANT: In case where you need to add or delete someone"
   ]
  },
  {
   "cell_type": "code",
   "execution_count": null,
   "metadata": {},
   "outputs": [],
   "source": [
    "df.to_csv(\"secret_santa_order.csv\")"
   ]
  },
  {
   "cell_type": "markdown",
   "metadata": {},
   "source": [
    "# Define an Email Template"
   ]
  },
  {
   "cell_type": "code",
   "execution_count": null,
   "metadata": {},
   "outputs": [],
   "source": [
    "email_template = {\n",
    "    \"to\": \"\"\"{{ SENDER.EMAIL }}\"\"\",\n",
    "    \"subject\": \"\"\"Secret Santa 2024\"\"\",\n",
    "    \"body\": \"\"\"Hi {{ SENDER.NAME }},\n",
    "\n",
    "For this Christmas we have plan a Secret Santa !\n",
    "\n",
    "For this, you'll need to prepare a gift ~10€ for {{ RECEIVER.NAME }} ({{ RECEIVER.EMAIL }}) !\n",
    "\n",
    "Please, keep the surprise until the End-Of-The-Year Party, and bring your gift for the XXth December, in XXXXXX, at XPM.\n",
    "\n",
    "Be original, creative and see you soon ;-)\n",
    "\n",
    "\n",
    "This email was automatically generated thanks to: https://github.com/louisgeisler/EmailTemplatingSender \"\"\"\n",
    "}"
   ]
  },
  {
   "cell_type": "markdown",
   "metadata": {},
   "source": [
    "# Render Templates"
   ]
  },
  {
   "cell_type": "markdown",
   "metadata": {},
   "source": [
    "Gmail need a custom way of prefil email, if you're not using gmail, write 'default' instead of Gmail"
   ]
  },
  {
   "cell_type": "code",
   "execution_count": null,
   "metadata": {},
   "outputs": [],
   "source": [
    "mode=\"gmail\""
   ]
  },
  {
   "cell_type": "code",
   "execution_count": null,
   "metadata": {},
   "outputs": [],
   "source": [
    "\n",
    "\n",
    "def enc(txt):\n",
    "    return quote(txt.encode(\"utf-8\")).replace(\"+\", \"%2B\")\n",
    "\n",
    "def email_uri(email, mode=\"gmail\"):\n",
    "    mode = mode.lower()\n",
    "    if mode==\"gmail\":\n",
    "        encoded_url = enc(f\"\"\"mailto:?to={ email['to'] }&subject={ email['subject'] }&body={ email['body'] }\"\"\");\n",
    "        return f\"\"\"https://mail.google.com/mail/?extsrc=mailto&url={encoded_url}\"\"\";\n",
    "    else:\n",
    "        return f\"\"\"mailto:{ email['to'] }?subject={ email['subject'] }&body={ email['body'] }\"\"\";\n",
    "\n",
    "email_templated = {\n",
    "    k: Template(v)\n",
    "    for k, v in email_template.items()\n",
    "}\n",
    "\n",
    "def get_row(email_i):\n",
    "    return {\n",
    "        k.upper(): v\n",
    "        for k, v in df.iloc[email_i].to_dict().items()\n",
    "    }\n",
    "\n",
    "email_info = []\n",
    "n_people = len(df)\n",
    "for email_i in range(n_people):\n",
    "    \n",
    "    email_i_plus_1 = (email_i + 1)%n_people\n",
    "    \n",
    "    email_info_dict = {\n",
    "        \"SENDER\": get_row(email_i),\n",
    "        \"RECEIVER\": get_row(email_i_plus_1),\n",
    "    }\n",
    "    \n",
    "    rendered_email = {\n",
    "        k: template.render(\n",
    "            **email_info_dict\n",
    "        )\n",
    "        for k, template in email_templated.items()\n",
    "    }\n",
    "    \n",
    "    rendered_email[\"url\"] = email_uri(rendered_email, mode)\n",
    "    \n",
    "    email_info += [rendered_email]"
   ]
  },
  {
   "cell_type": "markdown",
   "metadata": {},
   "source": [
    "# Generate URLs"
   ]
  },
  {
   "cell_type": "code",
   "execution_count": null,
   "metadata": {},
   "outputs": [],
   "source": [
    "html = \"\"\"\n",
    "<style>\n",
    "a:link {\n",
    "  color: green;\n",
    "}\n",
    "a:visited {\n",
    "  color: red;\n",
    "}\n",
    "</style>\n",
    "Send to:<br>\n",
    "\"\"\"\n",
    "\n",
    "html += \"<ol>\"\n",
    "for info in email_info:\n",
    "    html += f\"\"\"<li><a href='{info[\"url\"]}' target='_blank'>{ info[\"to\"] }</a></li>\"\"\"\n",
    "html += \"</ol>\"\n",
    "\n",
    "HTML(html)"
   ]
  },
  {
   "cell_type": "markdown",
   "metadata": {},
   "source": [
    "You can click one by one these links that will prefill you email.  \n",
    "Or you can use the automatic opening"
   ]
  },
  {
   "cell_type": "markdown",
   "metadata": {},
   "source": [
    "# Automatic Email Sending Launching\n",
    "\n",
    "**You need to open this notebook in Jupyter and allow popup in you browser**\n",
    "\n",
    "It will open a new tab automatically once the previous one is closed."
   ]
  },
  {
   "cell_type": "code",
   "execution_count": null,
   "metadata": {},
   "outputs": [],
   "source": [
    "display(Javascript(\"\"\"\n",
    "let fbAuthWindow;\n",
    "let urls = {URLs}\n",
    "\n",
    "function loop_tab() {\n",
    "\n",
    "    if (!urls.length) {\n",
    "        alert(\"You have send all the email !\");\n",
    "        i_clicked_link = 0;\n",
    "        return\n",
    "    }\n",
    "    \n",
    "    fbAuthWindow = window.open(urls.pop());\n",
    "\n",
    "    const checkAuthWindow = () => {\n",
    "        if (fbAuthWindow.closed) {\n",
    "            loop_tab();\n",
    "        } else {\n",
    "            setTimeout(checkAuthWindow, 500);\n",
    "        }\n",
    "    };\n",
    "    checkAuthWindow();\n",
    "}\n",
    "\n",
    "loop_tab();\n",
    "        \n",
    "\"\"\".replace(\"{URLs}\", str([\n",
    "    info[\"url\"]\n",
    "    for info in email_info\n",
    "]))))"
   ]
  },
  {
   "cell_type": "markdown",
   "metadata": {},
   "source": [
    "# Support"
   ]
  },
  {
   "cell_type": "markdown",
   "metadata": {},
   "source": [
    "<a href=\"https://www.buymeacoffee.com/louisgeisler\"><img src=\"https://img.buymeacoffee.com/button-api/?text=Buy me a hot chocolat&emoji=&slug=louisgeisler&button_colour=FFDD00&font_colour=000000&font_family=Lato&outline_colour=000000&coffee_colour=ffffff\" /></a>"
   ]
  }
 ],
 "metadata": {
  "kernelspec": {
   "display_name": "Python 3",
   "language": "python",
   "name": "python3"
  },
  "language_info": {
   "codemirror_mode": {
    "name": "ipython",
    "version": 3
   },
   "file_extension": ".py",
   "mimetype": "text/x-python",
   "name": "python",
   "nbconvert_exporter": "python",
   "pygments_lexer": "ipython3",
   "version": "3.8.8rc1"
  }
 },
 "nbformat": 4,
 "nbformat_minor": 2
}
