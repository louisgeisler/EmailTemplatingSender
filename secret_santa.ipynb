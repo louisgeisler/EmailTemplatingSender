{
 "cells": [
  {
   "cell_type": "markdown",
   "metadata": {},
   "source": [
    "<h1 style=\"text-align:center; font-size: 3em;\">Secret Santa Emailing</h1>\n",
    "<h1 style=\"text-align:center; font-size: 3em;\">🎅📨</h1>"
   ]
  },
  {
   "cell_type": "markdown",
   "metadata": {},
   "source": [
    "<b>🕵️ PRIVACY:</b> No email store! Everything is executed on your computer !\n",
    "<br><b>🔒 SECURE:</b> No External Email Sender! Your email and your prefered email services (Gmail, Outlook, ...) will be used\n",
    "<br><b>👍 EASY:</b> Upload a CSV file with at least name and adresses\n",
    "<br><b>📨 FAST:</b><ol>\n",
    "    <li>Upload a CSV file with at least name and adresses</li>\n",
    "    <li>Customize you email template</li>\n",
    "    <li>Verify and send one by one all the prefill email</li>\n",
    "</ol>\n",
    "<b>⚙️ ADVANCED:</b> By using Jinja templating, you will be able to <a href=\"https://jinja.palletsprojects.com/en/3.0.x/templates/#if\">define condition in you template</a> !\n",
    "<br>"
   ]
  },
  {
   "cell_type": "markdown",
   "metadata": {},
   "source": [
    "# Install Packages"
   ]
  },
  {
   "cell_type": "code",
   "execution_count": 9,
   "metadata": {},
   "outputs": [
    {
     "name": "stdout",
     "output_type": "stream",
     "text": [
      "Looking in indexes: https://pypi.org/simple, https://pypi.ngc.nvidia.com\n",
      "Requirement already satisfied: pandas in c:\\users\\louis\\anaconda3\\lib\\site-packages (0.25.1)\n",
      "Requirement already satisfied: python-dateutil>=2.6.1 in c:\\users\\louis\\anaconda3\\lib\\site-packages (from pandas) (2.8.0)\n",
      "Requirement already satisfied: pytz>=2017.2 in c:\\users\\louis\\appdata\\roaming\\python\\python37\\site-packages (from pandas) (2019.3)\n",
      "Requirement already satisfied: numpy>=1.13.3 in c:\\users\\louis\\anaconda3\\lib\\site-packages (from pandas) (1.16.5)\n",
      "Requirement already satisfied: six>=1.5 in c:\\users\\louis\\anaconda3\\lib\\site-packages (from python-dateutil>=2.6.1->pandas) (1.12.0)\n",
      "Looking in indexes: https://pypi.org/simple, https://pypi.ngc.nvidia.com\n",
      "Requirement already satisfied: Jinja2 in c:\\users\\louis\\anaconda3\\lib\\site-packages (2.10.3)\n",
      "Requirement already satisfied: MarkupSafe>=0.23 in c:\\users\\louis\\appdata\\roaming\\python\\python37\\site-packages (from Jinja2) (1.1.1)\n"
     ]
    }
   ],
   "source": [
    "!pip install pandas\n",
    "!pip install Jinja2"
   ]
  },
  {
   "cell_type": "markdown",
   "metadata": {},
   "source": [
    "# Importations"
   ]
  },
  {
   "cell_type": "code",
   "execution_count": 10,
   "metadata": {},
   "outputs": [],
   "source": [
    "import io\n",
    "import pandas as pd\n",
    "from jinja2 import Template\n",
    "from urllib.parse import quote\n",
    "from IPython.core.display import HTML\n",
    "from IPython.display import Javascript"
   ]
  },
  {
   "cell_type": "markdown",
   "metadata": {},
   "source": [
    "# Define list of people and their informations"
   ]
  },
  {
   "cell_type": "code",
   "execution_count": 11,
   "metadata": {},
   "outputs": [
    {
     "data": {
      "text/html": [
       "<div>\n",
       "<style scoped>\n",
       "    .dataframe tbody tr th:only-of-type {\n",
       "        vertical-align: middle;\n",
       "    }\n",
       "\n",
       "    .dataframe tbody tr th {\n",
       "        vertical-align: top;\n",
       "    }\n",
       "\n",
       "    .dataframe thead th {\n",
       "        text-align: right;\n",
       "    }\n",
       "</style>\n",
       "<table border=\"1\" class=\"dataframe\">\n",
       "  <thead>\n",
       "    <tr style=\"text-align: right;\">\n",
       "      <th></th>\n",
       "      <th>Name</th>\n",
       "      <th>Email</th>\n",
       "      <th>Present</th>\n",
       "    </tr>\n",
       "  </thead>\n",
       "  <tbody>\n",
       "    <tr>\n",
       "      <td>0</td>\n",
       "      <td>Louis</td>\n",
       "      <td>louis@example.com</td>\n",
       "      <td>yes</td>\n",
       "    </tr>\n",
       "    <tr>\n",
       "      <td>1</td>\n",
       "      <td>Ekaterina</td>\n",
       "      <td>ekaterina@example.com</td>\n",
       "      <td>no</td>\n",
       "    </tr>\n",
       "    <tr>\n",
       "      <td>2</td>\n",
       "      <td>Boris</td>\n",
       "      <td>boris@example.com</td>\n",
       "      <td>yes</td>\n",
       "    </tr>\n",
       "    <tr>\n",
       "      <td>3</td>\n",
       "      <td>Elettra</td>\n",
       "      <td>elettra@example.com</td>\n",
       "      <td>yes</td>\n",
       "    </tr>\n",
       "    <tr>\n",
       "      <td>4</td>\n",
       "      <td>Ayoub</td>\n",
       "      <td>boris@example.com</td>\n",
       "      <td>no</td>\n",
       "    </tr>\n",
       "    <tr>\n",
       "      <td>5</td>\n",
       "      <td>Lina</td>\n",
       "      <td>lina@example.com</td>\n",
       "      <td>no</td>\n",
       "    </tr>\n",
       "  </tbody>\n",
       "</table>\n",
       "</div>"
      ],
      "text/plain": [
       "        Name                  Email Present\n",
       "0      Louis      louis@example.com     yes\n",
       "1  Ekaterina  ekaterina@example.com      no\n",
       "2      Boris      boris@example.com     yes\n",
       "3    Elettra    elettra@example.com     yes\n",
       "4      Ayoub      boris@example.com      no\n",
       "5       Lina       lina@example.com      no"
      ]
     },
     "execution_count": 11,
     "metadata": {},
     "output_type": "execute_result"
    }
   ],
   "source": [
    "# You may replace this by a valide csv path\n",
    "csv_path = io.StringIO('''\n",
    "Name,Email\n",
    "Louis,louis@example.com\n",
    "Ekaterina,ekaterina@example.com\n",
    "Boris,boris@example.com\n",
    "Elettra,elettra@example.com\n",
    "Ayoub,boris@example.com\n",
    "Lina,lina@example.com\n",
    "''')\n",
    "\n",
    "df = pd.read_csv(csv_path)\n",
    "\n",
    "df"
   ]
  },
  {
   "cell_type": "markdown",
   "metadata": {},
   "source": [
    "# Define an Email Template"
   ]
  },
  {
   "cell_type": "code",
   "execution_count": 61,
   "metadata": {},
   "outputs": [],
   "source": [
    "email_template = {\n",
    "    \"to\": \"\"\"{{ SENDER.EMAIL }}\"\"\",\n",
    "    \"subject\": \"\"\"Secret Santa 2024\"\"\",\n",
    "    \"body\": \"\"\"Hi {{ SENDER.NAME }},\n",
    "\n",
    "For this Christmas we have plan a Secret Santa !\n",
    "\n",
    "For this, you'll need to prepare a gift ~10€ for {{ RECEIVER.NAME }} ({{ RECEIVER.EMAIL }}) !\n",
    "\n",
    "Please, keep the surprise until the End-Of-The-Year Party, and bring your gift for the XXth December, in XXXXXX, at XPM.\n",
    "\n",
    "Be original, creative and see you soon ;-)\"\"\"\n",
    "}"
   ]
  },
  {
   "cell_type": "markdown",
   "metadata": {},
   "source": [
    "# Render Templates"
   ]
  },
  {
   "cell_type": "markdown",
   "metadata": {},
   "source": [
    "Gmail need a custom way of prefil email, if you're not using gmail, write 'default' instead of Gmail"
   ]
  },
  {
   "cell_type": "code",
   "execution_count": null,
   "metadata": {},
   "outputs": [],
   "source": [
    "mode=\"gmail\""
   ]
  },
  {
   "cell_type": "code",
   "execution_count": 13,
   "metadata": {},
   "outputs": [],
   "source": [
    "\n",
    "\n",
    "def enc(txt):\n",
    "    return quote(txt.encode(\"utf-8\")).replace(\"+\", \"%2B\")\n",
    "\n",
    "def email_uri(email, mode=\"gmail\"):\n",
    "    mode = mode.lower()\n",
    "    if mode==\"gmail\":\n",
    "        encoded_url = enc(f\"\"\"mailto:?to={ email['to'] }&subject={ email['subject'] }&body={ email['body'] }\"\"\");\n",
    "        return f\"\"\"https://mail.google.com/mail/?extsrc=mailto&url={encoded_url}\"\"\";\n",
    "    else:\n",
    "        return f\"\"\"mailto:{ email['to'] }?subject={ email['subject'] }&body={ email['body'] }\"\"\";\n",
    "\n",
    "email_templated = {\n",
    "    k: Template(v)\n",
    "    for k, v in email_template.items()\n",
    "}\n",
    "\n",
    "def get_row(email_i):\n",
    "    return {\n",
    "        k.upper(): v\n",
    "        for k, v in df.iloc[email_i].to_dict().items()\n",
    "    }\n",
    "\n",
    "email_info = []\n",
    "n_people = len(df)\n",
    "for email_i in range(n_people):\n",
    "    \n",
    "    email_i_plus_1 = (email_i + 1)%n_people\n",
    "    \n",
    "    email_info_dict = {\n",
    "        \"SENDER\": get_row(email_i),\n",
    "        \"RECEIVER\": get_row(email_i_plus_1),\n",
    "    }\n",
    "    \n",
    "    rendered_email = {\n",
    "        k: template.render(\n",
    "            **email_info_dict\n",
    "        )\n",
    "        for k, template in email_templated.items()\n",
    "    }\n",
    "    \n",
    "    rendered_email[\"url\"] = email_uri(rendered_email, mode)\n",
    "    \n",
    "    email_info += [rendered_email]"
   ]
  },
  {
   "cell_type": "markdown",
   "metadata": {},
   "source": [
    "# Generate URLs"
   ]
  },
  {
   "cell_type": "code",
   "execution_count": 14,
   "metadata": {},
   "outputs": [
    {
     "data": {
      "text/html": [
       "\n",
       "<style>\n",
       "a:link {\n",
       "  color: green;\n",
       "}\n",
       "a:visited {\n",
       "  color: red;\n",
       "}\n",
       "</style>\n",
       "Send to:<br>\n",
       "<ol><li><a href='https://mail.google.com/mail/?extsrc=mailto&url=mailto%3A%3Fto%3Dlouis%40example.com%26subject%3DSecret%20Santa%202024%26body%3DHi%20Louis%2C%0A%0AFor%20this%20Christmas%20we%20have%20plan%20a%20Secret%20Santa%20%21%0A%0AFor%20this%2C%20you%27ll%20need%20to%20prepare%20a%20gift%20~10%E2%82%AC%20for%20Ekaterina%20%28ekaterina%40example.com%29%20%21%0A%0APlease%2C%20keep%20the%20surprise%20until%20the%20End-Of-The-Year%20Party%2C%20the%20XXth%20December%2C%20in%20XXXXXX%2C%20at%20XPM.%0A%0ABe%20original%2C%20creative%20and%20see%20you%20soon%20%3B-%29' target='_blank'>louis@example.com</a></li><li><a href='https://mail.google.com/mail/?extsrc=mailto&url=mailto%3A%3Fto%3Dekaterina%40example.com%26subject%3DSecret%20Santa%202024%26body%3DHi%20Ekaterina%2C%0A%0AFor%20this%20Christmas%20we%20have%20plan%20a%20Secret%20Santa%20%21%0A%0AFor%20this%2C%20you%27ll%20need%20to%20prepare%20a%20gift%20~10%E2%82%AC%20for%20Boris%20%28boris%40example.com%29%20%21%0A%0APlease%2C%20keep%20the%20surprise%20until%20the%20End-Of-The-Year%20Party%2C%20the%20XXth%20December%2C%20in%20XXXXXX%2C%20at%20XPM.%0A%0ABe%20original%2C%20creative%20and%20see%20you%20soon%20%3B-%29' target='_blank'>ekaterina@example.com</a></li><li><a href='https://mail.google.com/mail/?extsrc=mailto&url=mailto%3A%3Fto%3Dboris%40example.com%26subject%3DSecret%20Santa%202024%26body%3DHi%20Boris%2C%0A%0AFor%20this%20Christmas%20we%20have%20plan%20a%20Secret%20Santa%20%21%0A%0AFor%20this%2C%20you%27ll%20need%20to%20prepare%20a%20gift%20~10%E2%82%AC%20for%20Elettra%20%28elettra%40example.com%29%20%21%0A%0APlease%2C%20keep%20the%20surprise%20until%20the%20End-Of-The-Year%20Party%2C%20the%20XXth%20December%2C%20in%20XXXXXX%2C%20at%20XPM.%0A%0ABe%20original%2C%20creative%20and%20see%20you%20soon%20%3B-%29' target='_blank'>boris@example.com</a></li><li><a href='https://mail.google.com/mail/?extsrc=mailto&url=mailto%3A%3Fto%3Delettra%40example.com%26subject%3DSecret%20Santa%202024%26body%3DHi%20Elettra%2C%0A%0AFor%20this%20Christmas%20we%20have%20plan%20a%20Secret%20Santa%20%21%0A%0AFor%20this%2C%20you%27ll%20need%20to%20prepare%20a%20gift%20~10%E2%82%AC%20for%20Ayoub%20%28boris%40example.com%29%20%21%0A%0APlease%2C%20keep%20the%20surprise%20until%20the%20End-Of-The-Year%20Party%2C%20the%20XXth%20December%2C%20in%20XXXXXX%2C%20at%20XPM.%0A%0ABe%20original%2C%20creative%20and%20see%20you%20soon%20%3B-%29' target='_blank'>elettra@example.com</a></li><li><a href='https://mail.google.com/mail/?extsrc=mailto&url=mailto%3A%3Fto%3Dboris%40example.com%26subject%3DSecret%20Santa%202024%26body%3DHi%20Ayoub%2C%0A%0AFor%20this%20Christmas%20we%20have%20plan%20a%20Secret%20Santa%20%21%0A%0AFor%20this%2C%20you%27ll%20need%20to%20prepare%20a%20gift%20~10%E2%82%AC%20for%20Lina%20%28lina%40example.com%29%20%21%0A%0APlease%2C%20keep%20the%20surprise%20until%20the%20End-Of-The-Year%20Party%2C%20the%20XXth%20December%2C%20in%20XXXXXX%2C%20at%20XPM.%0A%0ABe%20original%2C%20creative%20and%20see%20you%20soon%20%3B-%29' target='_blank'>boris@example.com</a></li><li><a href='https://mail.google.com/mail/?extsrc=mailto&url=mailto%3A%3Fto%3Dlina%40example.com%26subject%3DSecret%20Santa%202024%26body%3DHi%20Lina%2C%0A%0AFor%20this%20Christmas%20we%20have%20plan%20a%20Secret%20Santa%20%21%0A%0AFor%20this%2C%20you%27ll%20need%20to%20prepare%20a%20gift%20~10%E2%82%AC%20for%20Louis%20%28louis%40example.com%29%20%21%0A%0APlease%2C%20keep%20the%20surprise%20until%20the%20End-Of-The-Year%20Party%2C%20the%20XXth%20December%2C%20in%20XXXXXX%2C%20at%20XPM.%0A%0ABe%20original%2C%20creative%20and%20see%20you%20soon%20%3B-%29' target='_blank'>lina@example.com</a></li></ol>"
      ],
      "text/plain": [
       "<IPython.core.display.HTML object>"
      ]
     },
     "execution_count": 14,
     "metadata": {},
     "output_type": "execute_result"
    }
   ],
   "source": [
    "html = \"\"\"\n",
    "<style>\n",
    "a:link {\n",
    "  color: green;\n",
    "}\n",
    "a:visited {\n",
    "  color: red;\n",
    "}\n",
    "</style>\n",
    "Send to:<br>\n",
    "\"\"\"\n",
    "\n",
    "html += \"<ol>\"\n",
    "for info in email_info:\n",
    "    html += f\"\"\"<li><a href='{info[\"url\"]}' target='_blank'>{ info[\"to\"] }</a></li>\"\"\"\n",
    "html += \"</ol>\"\n",
    "\n",
    "HTML(html)"
   ]
  },
  {
   "cell_type": "markdown",
   "metadata": {},
   "source": [
    "You can click one by one these links that will prefill you email.  \n",
    "Or you can use the automatic opening"
   ]
  },
  {
   "cell_type": "markdown",
   "metadata": {},
   "source": [
    "# Automatic Email Sending Launching\n",
    "\n",
    "**You need to open this notebook in Jupyter and allow popup in you browser**\n",
    "\n",
    "It will open a new tab automatically once the previous one is closed."
   ]
  },
  {
   "cell_type": "code",
   "execution_count": 16,
   "metadata": {},
   "outputs": [
    {
     "data": {
      "application/javascript": "\nlet fbAuthWindow;\nlet urls = ['https://mail.google.com/mail/?extsrc=mailto&url=mailto%3A%3Fto%3Dlouis%40example.com%26subject%3DSecret%20Santa%202024%26body%3DHi%20Louis%2C%0A%0AFor%20this%20Christmas%20we%20have%20plan%20a%20Secret%20Santa%20%21%0A%0AFor%20this%2C%20you%27ll%20need%20to%20prepare%20a%20gift%20~10%E2%82%AC%20for%20Ekaterina%20%28ekaterina%40example.com%29%20%21%0A%0APlease%2C%20keep%20the%20surprise%20until%20the%20End-Of-The-Year%20Party%2C%20the%20XXth%20December%2C%20in%20XXXXXX%2C%20at%20XPM.%0A%0ABe%20original%2C%20creative%20and%20see%20you%20soon%20%3B-%29', 'https://mail.google.com/mail/?extsrc=mailto&url=mailto%3A%3Fto%3Dekaterina%40example.com%26subject%3DSecret%20Santa%202024%26body%3DHi%20Ekaterina%2C%0A%0AFor%20this%20Christmas%20we%20have%20plan%20a%20Secret%20Santa%20%21%0A%0AFor%20this%2C%20you%27ll%20need%20to%20prepare%20a%20gift%20~10%E2%82%AC%20for%20Boris%20%28boris%40example.com%29%20%21%0A%0APlease%2C%20keep%20the%20surprise%20until%20the%20End-Of-The-Year%20Party%2C%20the%20XXth%20December%2C%20in%20XXXXXX%2C%20at%20XPM.%0A%0ABe%20original%2C%20creative%20and%20see%20you%20soon%20%3B-%29', 'https://mail.google.com/mail/?extsrc=mailto&url=mailto%3A%3Fto%3Dboris%40example.com%26subject%3DSecret%20Santa%202024%26body%3DHi%20Boris%2C%0A%0AFor%20this%20Christmas%20we%20have%20plan%20a%20Secret%20Santa%20%21%0A%0AFor%20this%2C%20you%27ll%20need%20to%20prepare%20a%20gift%20~10%E2%82%AC%20for%20Elettra%20%28elettra%40example.com%29%20%21%0A%0APlease%2C%20keep%20the%20surprise%20until%20the%20End-Of-The-Year%20Party%2C%20the%20XXth%20December%2C%20in%20XXXXXX%2C%20at%20XPM.%0A%0ABe%20original%2C%20creative%20and%20see%20you%20soon%20%3B-%29', 'https://mail.google.com/mail/?extsrc=mailto&url=mailto%3A%3Fto%3Delettra%40example.com%26subject%3DSecret%20Santa%202024%26body%3DHi%20Elettra%2C%0A%0AFor%20this%20Christmas%20we%20have%20plan%20a%20Secret%20Santa%20%21%0A%0AFor%20this%2C%20you%27ll%20need%20to%20prepare%20a%20gift%20~10%E2%82%AC%20for%20Ayoub%20%28boris%40example.com%29%20%21%0A%0APlease%2C%20keep%20the%20surprise%20until%20the%20End-Of-The-Year%20Party%2C%20the%20XXth%20December%2C%20in%20XXXXXX%2C%20at%20XPM.%0A%0ABe%20original%2C%20creative%20and%20see%20you%20soon%20%3B-%29', 'https://mail.google.com/mail/?extsrc=mailto&url=mailto%3A%3Fto%3Dboris%40example.com%26subject%3DSecret%20Santa%202024%26body%3DHi%20Ayoub%2C%0A%0AFor%20this%20Christmas%20we%20have%20plan%20a%20Secret%20Santa%20%21%0A%0AFor%20this%2C%20you%27ll%20need%20to%20prepare%20a%20gift%20~10%E2%82%AC%20for%20Lina%20%28lina%40example.com%29%20%21%0A%0APlease%2C%20keep%20the%20surprise%20until%20the%20End-Of-The-Year%20Party%2C%20the%20XXth%20December%2C%20in%20XXXXXX%2C%20at%20XPM.%0A%0ABe%20original%2C%20creative%20and%20see%20you%20soon%20%3B-%29', 'https://mail.google.com/mail/?extsrc=mailto&url=mailto%3A%3Fto%3Dlina%40example.com%26subject%3DSecret%20Santa%202024%26body%3DHi%20Lina%2C%0A%0AFor%20this%20Christmas%20we%20have%20plan%20a%20Secret%20Santa%20%21%0A%0AFor%20this%2C%20you%27ll%20need%20to%20prepare%20a%20gift%20~10%E2%82%AC%20for%20Louis%20%28louis%40example.com%29%20%21%0A%0APlease%2C%20keep%20the%20surprise%20until%20the%20End-Of-The-Year%20Party%2C%20the%20XXth%20December%2C%20in%20XXXXXX%2C%20at%20XPM.%0A%0ABe%20original%2C%20creative%20and%20see%20you%20soon%20%3B-%29']\n\nfunction loop_tab() {\n\n    if (!urls.length) {\n        alert(\"You have send all the email !\");\n        i_clicked_link = 0;\n        return\n    }\n    \n    fbAuthWindow = window.open(urls.pop());\n\n    const checkAuthWindow = () => {\n        if (fbAuthWindow.closed) {\n            loop_tab();\n        } else {\n            setTimeout(checkAuthWindow, 500);\n        }\n    };\n    checkAuthWindow();\n}\n\nloop_tab();\n        \n",
      "text/plain": [
       "<IPython.core.display.Javascript object>"
      ]
     },
     "metadata": {},
     "output_type": "display_data"
    }
   ],
   "source": [
    "display(Javascript(\"\"\"\n",
    "let fbAuthWindow;\n",
    "let urls = {URLs}\n",
    "\n",
    "function loop_tab() {\n",
    "\n",
    "    if (!urls.length) {\n",
    "        alert(\"You have send all the email !\");\n",
    "        i_clicked_link = 0;\n",
    "        return\n",
    "    }\n",
    "    \n",
    "    fbAuthWindow = window.open(urls.pop());\n",
    "\n",
    "    const checkAuthWindow = () => {\n",
    "        if (fbAuthWindow.closed) {\n",
    "            loop_tab();\n",
    "        } else {\n",
    "            setTimeout(checkAuthWindow, 500);\n",
    "        }\n",
    "    };\n",
    "    checkAuthWindow();\n",
    "}\n",
    "\n",
    "loop_tab();\n",
    "        \n",
    "\"\"\".replace(\"{URLs}\", str([\n",
    "    info[\"url\"]\n",
    "    for info in email_info\n",
    "]))))"
   ]
  }
 ],
 "metadata": {
  "kernelspec": {
   "display_name": "Python 3",
   "language": "python",
   "name": "python3"
  },
  "language_info": {
   "codemirror_mode": {
    "name": "ipython",
    "version": 3
   },
   "file_extension": ".py",
   "mimetype": "text/x-python",
   "name": "python",
   "nbconvert_exporter": "python",
   "pygments_lexer": "ipython3",
   "version": "3.7.4"
  }
 },
 "nbformat": 4,
 "nbformat_minor": 2
}
